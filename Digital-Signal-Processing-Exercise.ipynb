{
 "cells": [
  {
   "cell_type": "code",
   "execution_count": 6,
   "id": "33c38b12",
   "metadata": {
    "scrolled": true
   },
   "outputs": [
    {
     "name": "stdout",
     "output_type": "stream",
     "text": [
      "Looking in indexes: http://ftp.daumkakao.com/pypi/simple\n",
      "Requirement already satisfied: torch in c:\\users\\devtae\\anaconda3\\lib\\site-packages (1.13.1)\n",
      "Requirement already satisfied: typing-extensions in c:\\users\\devtae\\anaconda3\\lib\\site-packages (from torch) (3.10.0.2)\n",
      "Looking in indexes: http://ftp.daumkakao.com/pypi/simple\n",
      "Requirement already satisfied: torchaudio in c:\\users\\devtae\\anaconda3\\lib\\site-packages (0.13.1)\n",
      "Requirement already satisfied: torch==1.13.1 in c:\\users\\devtae\\anaconda3\\lib\\site-packages (from torchaudio) (1.13.1)\n",
      "Requirement already satisfied: typing-extensions in c:\\users\\devtae\\anaconda3\\lib\\site-packages (from torch==1.13.1->torchaudio) (3.10.0.2)\n",
      "Looking in indexes: http://ftp.daumkakao.com/pypi/simple\n",
      "Collecting librosa\n",
      "  Downloading http://mirror.kakao.com/pypi/packages/e4/1c/23ef2fd02913d65d43dc7516fc829af709314a66c6f0bdc2e361fdcecc2d/librosa-0.9.2-py3-none-any.whl (214 kB)\n",
      "Requirement already satisfied: decorator>=4.0.10 in c:\\users\\devtae\\anaconda3\\lib\\site-packages (from librosa) (5.1.0)\n",
      "Collecting pooch>=1.0\n",
      "  Downloading http://mirror.kakao.com/pypi/packages/8d/64/8e1bfeda3ba0f267b2d9a918e8ca51db8652d0e1a3412a5b3dbce85d90b6/pooch-1.6.0-py3-none-any.whl (56 kB)\n",
      "Collecting audioread>=2.1.9\n",
      "  Downloading http://mirror.kakao.com/pypi/packages/b3/d1/e324634c5867a668774d6fe233a83228da4ba16521e19059c15df899737d/audioread-2.1.9.tar.gz (377 kB)\n",
      "Requirement already satisfied: numpy>=1.17.0 in c:\\users\\devtae\\anaconda3\\lib\\site-packages (from librosa) (1.20.3)\n",
      "Collecting resampy>=0.2.2\n",
      "  Downloading http://mirror.kakao.com/pypi/packages/f2/d3/5209fd2132452f199b1ddf0d084f9fd5f5f910840e3b282f005b48a503e1/resampy-0.4.2-py3-none-any.whl (3.1 MB)\n",
      "Requirement already satisfied: joblib>=0.14 in c:\\users\\devtae\\anaconda3\\lib\\site-packages (from librosa) (1.1.0)\n",
      "Collecting soundfile>=0.10.2\n",
      "  Downloading http://mirror.kakao.com/pypi/packages/50/ff/26a4ee48d0b66625a4e4028a055b9f25bc9d7c7b2d17d21a45137621a50d/soundfile-0.12.1-py2.py3-none-win_amd64.whl (1.0 MB)\n",
      "Requirement already satisfied: scipy>=1.2.0 in c:\\users\\devtae\\anaconda3\\lib\\site-packages (from librosa) (1.7.1)\n",
      "Requirement already satisfied: numba>=0.45.1 in c:\\users\\devtae\\anaconda3\\lib\\site-packages (from librosa) (0.54.1)\n",
      "Requirement already satisfied: scikit-learn>=0.19.1 in c:\\users\\devtae\\anaconda3\\lib\\site-packages (from librosa) (0.24.2)\n",
      "Requirement already satisfied: packaging>=20.0 in c:\\users\\devtae\\anaconda3\\lib\\site-packages (from librosa) (21.0)\n",
      "Requirement already satisfied: setuptools in c:\\users\\devtae\\anaconda3\\lib\\site-packages (from numba>=0.45.1->librosa) (58.0.4)\n",
      "Requirement already satisfied: llvmlite<0.38,>=0.37.0rc1 in c:\\users\\devtae\\anaconda3\\lib\\site-packages (from numba>=0.45.1->librosa) (0.37.0)\n",
      "Requirement already satisfied: pyparsing>=2.0.2 in c:\\users\\devtae\\anaconda3\\lib\\site-packages (from packaging>=20.0->librosa) (3.0.4)\n",
      "Requirement already satisfied: requests>=2.19.0 in c:\\users\\devtae\\anaconda3\\lib\\site-packages (from pooch>=1.0->librosa) (2.26.0)\n",
      "Requirement already satisfied: appdirs>=1.3.0 in c:\\users\\devtae\\anaconda3\\lib\\site-packages (from pooch>=1.0->librosa) (1.4.4)\n",
      "Requirement already satisfied: idna<4,>=2.5 in c:\\users\\devtae\\anaconda3\\lib\\site-packages (from requests>=2.19.0->pooch>=1.0->librosa) (3.2)\n",
      "Requirement already satisfied: urllib3<1.27,>=1.21.1 in c:\\users\\devtae\\anaconda3\\lib\\site-packages (from requests>=2.19.0->pooch>=1.0->librosa) (1.26.7)\n",
      "Requirement already satisfied: charset-normalizer~=2.0.0 in c:\\users\\devtae\\anaconda3\\lib\\site-packages (from requests>=2.19.0->pooch>=1.0->librosa) (2.0.4)\n",
      "Requirement already satisfied: certifi>=2017.4.17 in c:\\users\\devtae\\anaconda3\\lib\\site-packages (from requests>=2.19.0->pooch>=1.0->librosa) (2021.10.8)\n",
      "Requirement already satisfied: threadpoolctl>=2.0.0 in c:\\users\\devtae\\anaconda3\\lib\\site-packages (from scikit-learn>=0.19.1->librosa) (2.2.0)\n",
      "Requirement already satisfied: cffi>=1.0 in c:\\users\\devtae\\anaconda3\\lib\\site-packages (from soundfile>=0.10.2->librosa) (1.14.6)\n",
      "Requirement already satisfied: pycparser in c:\\users\\devtae\\anaconda3\\lib\\site-packages (from cffi>=1.0->soundfile>=0.10.2->librosa) (2.20)\n",
      "Building wheels for collected packages: audioread\n",
      "  Building wheel for audioread (setup.py): started\n",
      "  Building wheel for audioread (setup.py): finished with status 'done'\n",
      "  Created wheel for audioread: filename=audioread-2.1.9-py3-none-any.whl size=23154 sha256=2bcc266d6bfd471bac82ef2252dd8e7c415d1d0140e5c4ea59b21251126edf70\n",
      "  Stored in directory: c:\\users\\devtae\\appdata\\local\\pip\\cache\\wheels\\ef\\aa\\7d\\94a662ef766e9c88bddf8bcbc0081463e2640c3c3311c9986e\n",
      "Successfully built audioread\n",
      "Installing collected packages: soundfile, resampy, pooch, audioread, librosa\n",
      "Successfully installed audioread-2.1.9 librosa-0.9.2 pooch-1.6.0 resampy-0.4.2 soundfile-0.12.1\n"
     ]
    }
   ],
   "source": [
    "# torch 및 torchaudio 라이브러리 설치\n",
    "!pip install torch\n",
    "!pip install torchaudio\n",
    "!pip install librosa"
   ]
  },
  {
   "cell_type": "code",
   "execution_count": 7,
   "id": "488fe4ed",
   "metadata": {},
   "outputs": [],
   "source": [
    "import librosa\n",
    "import numpy as np\n",
    "import pandas as pd\n",
    "import matplotlib.pyplot as plt\n",
    "\n",
    "import torch\n",
    "import torchaudio"
   ]
  },
  {
   "cell_type": "code",
   "execution_count": 8,
   "id": "a5cac5e1",
   "metadata": {},
   "outputs": [
    {
     "data": {
      "application/vnd.jupyter.widget-view+json": {
       "model_id": "807f8f02bb084cadb82211d3ddbc21fe",
       "version_major": 2,
       "version_minor": 0
      },
      "text/plain": [
       "  0%|          | 0.00/331M [00:00<?, ?B/s]"
      ]
     },
     "metadata": {},
     "output_type": "display_data"
    }
   ],
   "source": [
    "# 용량 초과 관계로 직접 다운로드 받아 사용하는 방식으로 할 것 (331MB)\n",
    "test_dataset = torchaudio.datasets.LIBRISPEECH(\"./\", url=\"test-clean\", download=True)"
   ]
  },
  {
   "cell_type": "code",
   "execution_count": null,
   "id": "32595548",
   "metadata": {},
   "outputs": [],
   "source": []
  }
 ],
 "metadata": {
  "kernelspec": {
   "display_name": "Python 3 (ipykernel)",
   "language": "python",
   "name": "python3"
  },
  "language_info": {
   "codemirror_mode": {
    "name": "ipython",
    "version": 3
   },
   "file_extension": ".py",
   "mimetype": "text/x-python",
   "name": "python",
   "nbconvert_exporter": "python",
   "pygments_lexer": "ipython3",
   "version": "3.9.7"
  }
 },
 "nbformat": 4,
 "nbformat_minor": 5
}
